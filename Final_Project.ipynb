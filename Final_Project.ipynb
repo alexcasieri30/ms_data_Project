{
 "cells": [
  {
   "cell_type": "markdown",
   "metadata": {
    "scrolled": true
   },
   "source": [
    "# Heading"
   ]
  },
  {
   "cell_type": "code",
   "execution_count": 2,
   "metadata": {},
   "outputs": [
    {
     "data": {
      "text/html": [
       "<div>\n",
       "<style scoped>\n",
       "    .dataframe tbody tr th:only-of-type {\n",
       "        vertical-align: middle;\n",
       "    }\n",
       "\n",
       "    .dataframe tbody tr th {\n",
       "        vertical-align: top;\n",
       "    }\n",
       "\n",
       "    .dataframe thead th {\n",
       "        text-align: right;\n",
       "    }\n",
       "</style>\n",
       "<table border=\"1\" class=\"dataframe\">\n",
       "  <thead>\n",
       "    <tr style=\"text-align: right;\">\n",
       "      <th></th>\n",
       "      <th>dbn</th>\n",
       "      <th>school_name</th>\n",
       "      <th>applications</th>\n",
       "      <th>acceptances</th>\n",
       "      <th>per_pupil_spending</th>\n",
       "      <th>avg_class_size</th>\n",
       "      <th>asian_percent</th>\n",
       "      <th>black_percent</th>\n",
       "      <th>hispanic_percent</th>\n",
       "      <th>multiple_percent</th>\n",
       "      <th>...</th>\n",
       "      <th>effective_school_leadership</th>\n",
       "      <th>strong_family_community_ties</th>\n",
       "      <th>trust</th>\n",
       "      <th>disability_percent</th>\n",
       "      <th>poverty_percent</th>\n",
       "      <th>ESL_percent</th>\n",
       "      <th>school_size</th>\n",
       "      <th>student_achievement</th>\n",
       "      <th>reading_scores_exceed</th>\n",
       "      <th>math_scores_exceed</th>\n",
       "    </tr>\n",
       "  </thead>\n",
       "  <tbody>\n",
       "    <tr>\n",
       "      <th>0</th>\n",
       "      <td>01M034</td>\n",
       "      <td>P.S. 034 FRANKLIN D. ROOSEVELT</td>\n",
       "      <td>6</td>\n",
       "      <td>0</td>\n",
       "      <td>24890.0</td>\n",
       "      <td>20.15</td>\n",
       "      <td>3.3</td>\n",
       "      <td>31.8</td>\n",
       "      <td>61.3</td>\n",
       "      <td>0.9</td>\n",
       "      <td>...</td>\n",
       "      <td>2.45</td>\n",
       "      <td>3.33</td>\n",
       "      <td>2.32</td>\n",
       "      <td>36.6</td>\n",
       "      <td>97.6</td>\n",
       "      <td>7.5</td>\n",
       "      <td>333.0</td>\n",
       "      <td>2.70</td>\n",
       "      <td>0.33</td>\n",
       "      <td>0.26</td>\n",
       "    </tr>\n",
       "    <tr>\n",
       "      <th>1</th>\n",
       "      <td>01M140</td>\n",
       "      <td>P.S. 140 NATHAN STRAUS</td>\n",
       "      <td>6</td>\n",
       "      <td>0</td>\n",
       "      <td>23536.0</td>\n",
       "      <td>24.56</td>\n",
       "      <td>5.7</td>\n",
       "      <td>12.4</td>\n",
       "      <td>78.7</td>\n",
       "      <td>0.5</td>\n",
       "      <td>...</td>\n",
       "      <td>4.11</td>\n",
       "      <td>3.12</td>\n",
       "      <td>3.26</td>\n",
       "      <td>31.0</td>\n",
       "      <td>87.3</td>\n",
       "      <td>9.7</td>\n",
       "      <td>371.0</td>\n",
       "      <td>2.71</td>\n",
       "      <td>0.31</td>\n",
       "      <td>0.24</td>\n",
       "    </tr>\n",
       "    <tr>\n",
       "      <th>2</th>\n",
       "      <td>01M184</td>\n",
       "      <td>P.S. 184M SHUANG WEN</td>\n",
       "      <td>67</td>\n",
       "      <td>23</td>\n",
       "      <td>16206.0</td>\n",
       "      <td>29.69</td>\n",
       "      <td>69.4</td>\n",
       "      <td>3.7</td>\n",
       "      <td>13.5</td>\n",
       "      <td>6.1</td>\n",
       "      <td>...</td>\n",
       "      <td>2.75</td>\n",
       "      <td>3.38</td>\n",
       "      <td>2.91</td>\n",
       "      <td>16.5</td>\n",
       "      <td>67.5</td>\n",
       "      <td>15.1</td>\n",
       "      <td>684.0</td>\n",
       "      <td>4.28</td>\n",
       "      <td>0.68</td>\n",
       "      <td>0.74</td>\n",
       "    </tr>\n",
       "    <tr>\n",
       "      <th>3</th>\n",
       "      <td>01M188</td>\n",
       "      <td>P.S. 188 THE ISLAND SCHOOL</td>\n",
       "      <td>0</td>\n",
       "      <td>0</td>\n",
       "      <td>21960.0</td>\n",
       "      <td>24.09</td>\n",
       "      <td>1.8</td>\n",
       "      <td>29.3</td>\n",
       "      <td>66.1</td>\n",
       "      <td>0.0</td>\n",
       "      <td>...</td>\n",
       "      <td>4.99</td>\n",
       "      <td>4.99</td>\n",
       "      <td>4.99</td>\n",
       "      <td>29.1</td>\n",
       "      <td>91.5</td>\n",
       "      <td>15.9</td>\n",
       "      <td>433.0</td>\n",
       "      <td>4.54</td>\n",
       "      <td>0.28</td>\n",
       "      <td>0.24</td>\n",
       "    </tr>\n",
       "    <tr>\n",
       "      <th>4</th>\n",
       "      <td>01M301</td>\n",
       "      <td>TECHNOLOGY, ARTS, AND SCIENCES STUDIO</td>\n",
       "      <td>11</td>\n",
       "      <td>0</td>\n",
       "      <td>25444.0</td>\n",
       "      <td>15.80</td>\n",
       "      <td>3.8</td>\n",
       "      <td>32.1</td>\n",
       "      <td>54.7</td>\n",
       "      <td>3.8</td>\n",
       "      <td>...</td>\n",
       "      <td>NaN</td>\n",
       "      <td>NaN</td>\n",
       "      <td>NaN</td>\n",
       "      <td>42.5</td>\n",
       "      <td>82.1</td>\n",
       "      <td>2.8</td>\n",
       "      <td>106.0</td>\n",
       "      <td>NaN</td>\n",
       "      <td>0.33</td>\n",
       "      <td>0.20</td>\n",
       "    </tr>\n",
       "  </tbody>\n",
       "</table>\n",
       "<p>5 rows × 24 columns</p>\n",
       "</div>"
      ],
      "text/plain": [
       "      dbn                            school_name  applications  acceptances  \\\n",
       "0  01M034         P.S. 034 FRANKLIN D. ROOSEVELT             6            0   \n",
       "1  01M140                 P.S. 140 NATHAN STRAUS             6            0   \n",
       "2  01M184                   P.S. 184M SHUANG WEN            67           23   \n",
       "3  01M188             P.S. 188 THE ISLAND SCHOOL             0            0   \n",
       "4  01M301  TECHNOLOGY, ARTS, AND SCIENCES STUDIO            11            0   \n",
       "\n",
       "   per_pupil_spending  avg_class_size  asian_percent  black_percent  \\\n",
       "0             24890.0           20.15            3.3           31.8   \n",
       "1             23536.0           24.56            5.7           12.4   \n",
       "2             16206.0           29.69           69.4            3.7   \n",
       "3             21960.0           24.09            1.8           29.3   \n",
       "4             25444.0           15.80            3.8           32.1   \n",
       "\n",
       "   hispanic_percent  multiple_percent  ...  effective_school_leadership  \\\n",
       "0              61.3               0.9  ...                         2.45   \n",
       "1              78.7               0.5  ...                         4.11   \n",
       "2              13.5               6.1  ...                         2.75   \n",
       "3              66.1               0.0  ...                         4.99   \n",
       "4              54.7               3.8  ...                          NaN   \n",
       "\n",
       "   strong_family_community_ties  trust  disability_percent  poverty_percent  \\\n",
       "0                          3.33   2.32                36.6             97.6   \n",
       "1                          3.12   3.26                31.0             87.3   \n",
       "2                          3.38   2.91                16.5             67.5   \n",
       "3                          4.99   4.99                29.1             91.5   \n",
       "4                           NaN    NaN                42.5             82.1   \n",
       "\n",
       "   ESL_percent  school_size  student_achievement  reading_scores_exceed  \\\n",
       "0          7.5        333.0                 2.70                   0.33   \n",
       "1          9.7        371.0                 2.71                   0.31   \n",
       "2         15.1        684.0                 4.28                   0.68   \n",
       "3         15.9        433.0                 4.54                   0.28   \n",
       "4          2.8        106.0                  NaN                   0.33   \n",
       "\n",
       "   math_scores_exceed  \n",
       "0                0.26  \n",
       "1                0.24  \n",
       "2                0.74  \n",
       "3                0.24  \n",
       "4                0.20  \n",
       "\n",
       "[5 rows x 24 columns]"
      ]
     },
     "execution_count": 2,
     "metadata": {},
     "output_type": "execute_result"
    }
   ],
   "source": [
    "import pandas as pd\n",
    "import numpy as np\n",
    "import matplotlib.pyplot as plt\n",
    "import seaborn as sns\n",
    "\n",
    "ms_data=pd.read_csv(\"middleSchoolData.csv\")\n",
    "ms_data.head()"
   ]
  },
  {
   "cell_type": "markdown",
   "metadata": {},
   "source": [
    "Data cleaning"
   ]
  },
  {
   "cell_type": "code",
   "execution_count": 3,
   "metadata": {},
   "outputs": [
    {
     "data": {
      "text/html": [
       "<div>\n",
       "<style scoped>\n",
       "    .dataframe tbody tr th:only-of-type {\n",
       "        vertical-align: middle;\n",
       "    }\n",
       "\n",
       "    .dataframe tbody tr th {\n",
       "        vertical-align: top;\n",
       "    }\n",
       "\n",
       "    .dataframe thead th {\n",
       "        text-align: right;\n",
       "    }\n",
       "</style>\n",
       "<table border=\"1\" class=\"dataframe\">\n",
       "  <thead>\n",
       "    <tr style=\"text-align: right;\">\n",
       "      <th></th>\n",
       "      <th>number_of_nan</th>\n",
       "      <th>dtypes_of_nan</th>\n",
       "      <th>skew</th>\n",
       "    </tr>\n",
       "  </thead>\n",
       "  <tbody>\n",
       "    <tr>\n",
       "      <th>dbn</th>\n",
       "      <td>0</td>\n",
       "      <td>object</td>\n",
       "      <td>NaN</td>\n",
       "    </tr>\n",
       "    <tr>\n",
       "      <th>school_name</th>\n",
       "      <td>0</td>\n",
       "      <td>object</td>\n",
       "      <td>NaN</td>\n",
       "    </tr>\n",
       "    <tr>\n",
       "      <th>applications</th>\n",
       "      <td>0</td>\n",
       "      <td>int64</td>\n",
       "      <td>2.987186</td>\n",
       "    </tr>\n",
       "    <tr>\n",
       "      <th>acceptances</th>\n",
       "      <td>0</td>\n",
       "      <td>int64</td>\n",
       "      <td>5.078125</td>\n",
       "    </tr>\n",
       "    <tr>\n",
       "      <th>per_pupil_spending</th>\n",
       "      <td>121</td>\n",
       "      <td>float64</td>\n",
       "      <td>1.959299</td>\n",
       "    </tr>\n",
       "    <tr>\n",
       "      <th>avg_class_size</th>\n",
       "      <td>121</td>\n",
       "      <td>float64</td>\n",
       "      <td>-0.024814</td>\n",
       "    </tr>\n",
       "    <tr>\n",
       "      <th>asian_percent</th>\n",
       "      <td>2</td>\n",
       "      <td>float64</td>\n",
       "      <td>2.215187</td>\n",
       "    </tr>\n",
       "    <tr>\n",
       "      <th>black_percent</th>\n",
       "      <td>2</td>\n",
       "      <td>float64</td>\n",
       "      <td>0.579481</td>\n",
       "    </tr>\n",
       "    <tr>\n",
       "      <th>hispanic_percent</th>\n",
       "      <td>2</td>\n",
       "      <td>float64</td>\n",
       "      <td>0.361108</td>\n",
       "    </tr>\n",
       "    <tr>\n",
       "      <th>multiple_percent</th>\n",
       "      <td>2</td>\n",
       "      <td>float64</td>\n",
       "      <td>2.520995</td>\n",
       "    </tr>\n",
       "    <tr>\n",
       "      <th>white_percent</th>\n",
       "      <td>2</td>\n",
       "      <td>float64</td>\n",
       "      <td>1.959875</td>\n",
       "    </tr>\n",
       "    <tr>\n",
       "      <th>rigorous_instruction</th>\n",
       "      <td>43</td>\n",
       "      <td>float64</td>\n",
       "      <td>-0.340382</td>\n",
       "    </tr>\n",
       "    <tr>\n",
       "      <th>collaborative_teachers</th>\n",
       "      <td>43</td>\n",
       "      <td>float64</td>\n",
       "      <td>-0.564701</td>\n",
       "    </tr>\n",
       "    <tr>\n",
       "      <th>supportive_environment</th>\n",
       "      <td>43</td>\n",
       "      <td>float64</td>\n",
       "      <td>-0.314385</td>\n",
       "    </tr>\n",
       "    <tr>\n",
       "      <th>effective_school_leadership</th>\n",
       "      <td>43</td>\n",
       "      <td>float64</td>\n",
       "      <td>-0.512392</td>\n",
       "    </tr>\n",
       "    <tr>\n",
       "      <th>strong_family_community_ties</th>\n",
       "      <td>45</td>\n",
       "      <td>float64</td>\n",
       "      <td>-0.650642</td>\n",
       "    </tr>\n",
       "    <tr>\n",
       "      <th>trust</th>\n",
       "      <td>45</td>\n",
       "      <td>float64</td>\n",
       "      <td>-0.649037</td>\n",
       "    </tr>\n",
       "    <tr>\n",
       "      <th>disability_percent</th>\n",
       "      <td>2</td>\n",
       "      <td>float64</td>\n",
       "      <td>1.965182</td>\n",
       "    </tr>\n",
       "    <tr>\n",
       "      <th>poverty_percent</th>\n",
       "      <td>2</td>\n",
       "      <td>float64</td>\n",
       "      <td>-1.558580</td>\n",
       "    </tr>\n",
       "    <tr>\n",
       "      <th>ESL_percent</th>\n",
       "      <td>2</td>\n",
       "      <td>float64</td>\n",
       "      <td>2.425006</td>\n",
       "    </tr>\n",
       "    <tr>\n",
       "      <th>school_size</th>\n",
       "      <td>2</td>\n",
       "      <td>float64</td>\n",
       "      <td>1.192003</td>\n",
       "    </tr>\n",
       "    <tr>\n",
       "      <th>student_achievement</th>\n",
       "      <td>47</td>\n",
       "      <td>float64</td>\n",
       "      <td>-0.207384</td>\n",
       "    </tr>\n",
       "    <tr>\n",
       "      <th>reading_scores_exceed</th>\n",
       "      <td>8</td>\n",
       "      <td>float64</td>\n",
       "      <td>0.485427</td>\n",
       "    </tr>\n",
       "    <tr>\n",
       "      <th>math_scores_exceed</th>\n",
       "      <td>8</td>\n",
       "      <td>float64</td>\n",
       "      <td>0.569386</td>\n",
       "    </tr>\n",
       "  </tbody>\n",
       "</table>\n",
       "</div>"
      ],
      "text/plain": [
       "                              number_of_nan dtypes_of_nan      skew\n",
       "dbn                                       0        object       NaN\n",
       "school_name                               0        object       NaN\n",
       "applications                              0         int64  2.987186\n",
       "acceptances                               0         int64  5.078125\n",
       "per_pupil_spending                      121       float64  1.959299\n",
       "avg_class_size                          121       float64 -0.024814\n",
       "asian_percent                             2       float64  2.215187\n",
       "black_percent                             2       float64  0.579481\n",
       "hispanic_percent                          2       float64  0.361108\n",
       "multiple_percent                          2       float64  2.520995\n",
       "white_percent                             2       float64  1.959875\n",
       "rigorous_instruction                     43       float64 -0.340382\n",
       "collaborative_teachers                   43       float64 -0.564701\n",
       "supportive_environment                   43       float64 -0.314385\n",
       "effective_school_leadership              43       float64 -0.512392\n",
       "strong_family_community_ties             45       float64 -0.650642\n",
       "trust                                    45       float64 -0.649037\n",
       "disability_percent                        2       float64  1.965182\n",
       "poverty_percent                           2       float64 -1.558580\n",
       "ESL_percent                               2       float64  2.425006\n",
       "school_size                               2       float64  1.192003\n",
       "student_achievement                      47       float64 -0.207384\n",
       "reading_scores_exceed                     8       float64  0.485427\n",
       "math_scores_exceed                        8       float64  0.569386"
      ]
     },
     "execution_count": 3,
     "metadata": {},
     "output_type": "execute_result"
    }
   ],
   "source": [
    "data_null=pd.DataFrame(ms_data.isnull().sum(),columns=[\"number_of_nan\"])\n",
    "dtypes_null=pd.DataFrame(ms_data.dtypes,columns=[\"dtypes_of_nan\"])\n",
    "data_skew=pd.DataFrame(ms_data.skew(),columns=[\"skew\"])\n",
    "\n",
    "data_info=pd.concat([data_null,dtypes_null, data_skew],axis=1)\n",
    "pd.set_option('display.max_rows', None)\n",
    "data_info"
   ]
  },
  {
   "cell_type": "markdown",
   "metadata": {},
   "source": [
    "For all quantitative variables, if the skew is above .5, replace NaN with the median. Otherwise replace with the mean."
   ]
  },
  {
   "cell_type": "code",
   "execution_count": 4,
   "metadata": {},
   "outputs": [],
   "source": [
    "list_of_object=[]\n",
    "list_of_quant=[]\n",
    "\n",
    "for i in range(len(data_info)):\n",
    "    if data_info[\"dtypes_of_nan\"][i]==\"object\":\n",
    "        list_of_object += [data_info.index[i]]\n",
    "    else:\n",
    "        list_of_quant += [data_info.index[i]]\n",
    "\n",
    "for i in list_of_quant:\n",
    "    if abs(ms_data[i].skew()) >= .5:\n",
    "        ms_data[i] = ms_data[i].fillna(ms_data[i].median())\n",
    "    else:\n",
    "        ms_data[i] = ms_data[i].fillna(ms_data[i].mean())\n",
    "        \n",
    "for i in list_of_object:\n",
    "    ms_data[i] = ms_data[i].fillna(ms_data[i].mode())"
   ]
  },
  {
   "cell_type": "code",
   "execution_count": 5,
   "metadata": {},
   "outputs": [
    {
     "data": {
      "text/html": [
       "<div>\n",
       "<style scoped>\n",
       "    .dataframe tbody tr th:only-of-type {\n",
       "        vertical-align: middle;\n",
       "    }\n",
       "\n",
       "    .dataframe tbody tr th {\n",
       "        vertical-align: top;\n",
       "    }\n",
       "\n",
       "    .dataframe thead th {\n",
       "        text-align: right;\n",
       "    }\n",
       "</style>\n",
       "<table border=\"1\" class=\"dataframe\">\n",
       "  <thead>\n",
       "    <tr style=\"text-align: right;\">\n",
       "      <th></th>\n",
       "      <th>number_of_nan</th>\n",
       "    </tr>\n",
       "  </thead>\n",
       "  <tbody>\n",
       "    <tr>\n",
       "      <th>dbn</th>\n",
       "      <td>0</td>\n",
       "    </tr>\n",
       "    <tr>\n",
       "      <th>school_name</th>\n",
       "      <td>0</td>\n",
       "    </tr>\n",
       "    <tr>\n",
       "      <th>applications</th>\n",
       "      <td>0</td>\n",
       "    </tr>\n",
       "    <tr>\n",
       "      <th>acceptances</th>\n",
       "      <td>0</td>\n",
       "    </tr>\n",
       "    <tr>\n",
       "      <th>per_pupil_spending</th>\n",
       "      <td>0</td>\n",
       "    </tr>\n",
       "    <tr>\n",
       "      <th>avg_class_size</th>\n",
       "      <td>0</td>\n",
       "    </tr>\n",
       "    <tr>\n",
       "      <th>asian_percent</th>\n",
       "      <td>0</td>\n",
       "    </tr>\n",
       "    <tr>\n",
       "      <th>black_percent</th>\n",
       "      <td>0</td>\n",
       "    </tr>\n",
       "    <tr>\n",
       "      <th>hispanic_percent</th>\n",
       "      <td>0</td>\n",
       "    </tr>\n",
       "    <tr>\n",
       "      <th>multiple_percent</th>\n",
       "      <td>0</td>\n",
       "    </tr>\n",
       "    <tr>\n",
       "      <th>white_percent</th>\n",
       "      <td>0</td>\n",
       "    </tr>\n",
       "    <tr>\n",
       "      <th>rigorous_instruction</th>\n",
       "      <td>0</td>\n",
       "    </tr>\n",
       "    <tr>\n",
       "      <th>collaborative_teachers</th>\n",
       "      <td>0</td>\n",
       "    </tr>\n",
       "    <tr>\n",
       "      <th>supportive_environment</th>\n",
       "      <td>0</td>\n",
       "    </tr>\n",
       "    <tr>\n",
       "      <th>effective_school_leadership</th>\n",
       "      <td>0</td>\n",
       "    </tr>\n",
       "    <tr>\n",
       "      <th>strong_family_community_ties</th>\n",
       "      <td>0</td>\n",
       "    </tr>\n",
       "    <tr>\n",
       "      <th>trust</th>\n",
       "      <td>0</td>\n",
       "    </tr>\n",
       "    <tr>\n",
       "      <th>disability_percent</th>\n",
       "      <td>0</td>\n",
       "    </tr>\n",
       "    <tr>\n",
       "      <th>poverty_percent</th>\n",
       "      <td>0</td>\n",
       "    </tr>\n",
       "    <tr>\n",
       "      <th>ESL_percent</th>\n",
       "      <td>0</td>\n",
       "    </tr>\n",
       "    <tr>\n",
       "      <th>school_size</th>\n",
       "      <td>0</td>\n",
       "    </tr>\n",
       "    <tr>\n",
       "      <th>student_achievement</th>\n",
       "      <td>0</td>\n",
       "    </tr>\n",
       "    <tr>\n",
       "      <th>reading_scores_exceed</th>\n",
       "      <td>0</td>\n",
       "    </tr>\n",
       "    <tr>\n",
       "      <th>math_scores_exceed</th>\n",
       "      <td>0</td>\n",
       "    </tr>\n",
       "  </tbody>\n",
       "</table>\n",
       "</div>"
      ],
      "text/plain": [
       "                              number_of_nan\n",
       "dbn                                       0\n",
       "school_name                               0\n",
       "applications                              0\n",
       "acceptances                               0\n",
       "per_pupil_spending                        0\n",
       "avg_class_size                            0\n",
       "asian_percent                             0\n",
       "black_percent                             0\n",
       "hispanic_percent                          0\n",
       "multiple_percent                          0\n",
       "white_percent                             0\n",
       "rigorous_instruction                      0\n",
       "collaborative_teachers                    0\n",
       "supportive_environment                    0\n",
       "effective_school_leadership               0\n",
       "strong_family_community_ties              0\n",
       "trust                                     0\n",
       "disability_percent                        0\n",
       "poverty_percent                           0\n",
       "ESL_percent                               0\n",
       "school_size                               0\n",
       "student_achievement                       0\n",
       "reading_scores_exceed                     0\n",
       "math_scores_exceed                        0"
      ]
     },
     "execution_count": 5,
     "metadata": {},
     "output_type": "execute_result"
    }
   ],
   "source": [
    "data_null=pd.DataFrame(ms_data.isnull().sum(),columns=[\"number_of_nan\"])\n",
    "data_null "
   ]
  },
  {
   "cell_type": "markdown",
   "metadata": {},
   "source": [
    "# Question 1"
   ]
  },
  {
   "cell_type": "code",
   "execution_count": 6,
   "metadata": {},
   "outputs": [
    {
     "name": "stdout",
     "output_type": "stream",
     "text": [
      "R value:  0.8017265370719315\n"
     ]
    },
    {
     "data": {
      "image/png": "[encoded data removed]",
      "text/plain": [
       "<Figure size 432x288 with 1 Axes>"
      ]
     },
     "metadata": {
      "needs_background": "light"
     },
     "output_type": "display_data"
    }
   ],
   "source": [
    "plt.plot(ms_data[\"applications\"],ms_data[\"acceptances\"],\"x\")\n",
    "plt.xlabel(\"Applications\")\n",
    "plt.ylabel(\"Acceptances\")\n",
    "corr1=np.corrcoef(ms_data[\"applications\"],ms_data[\"acceptances\"])\n",
    "print(\"R value: \",corr1[0,1])"
   ]
  },
  {
   "cell_type": "markdown",
   "metadata": {},
   "source": [
    "Using np.corrcoef, I was able to find the correlation between number of applications and number of acceptances per school. I also included a scatter plot to help visualize the data. "
   ]
  },
  {
   "cell_type": "markdown",
   "metadata": {},
   "source": [
    "# Question 2"
   ]
  },
  {
   "cell_type": "code",
   "execution_count": 8,
   "metadata": {},
   "outputs": [
    {
     "data": {
      "text/plain": [
       "0.6561970581962338"
      ]
     },
     "execution_count": 8,
     "metadata": {},
     "output_type": "execute_result"
    },
    {
     "data": {
      "image/png": "[encoded data removed]",
      "text/plain": [
       "<Figure size 432x288 with 1 Axes>"
      ]
     },
     "metadata": {
      "needs_background": "light"
     },
     "output_type": "display_data"
    }
   ],
   "source": [
    "ms_data[\"application_rate\"]=ms_data[\"applications\"]/ms_data[\"school_size\"]\n",
    "\n",
    "plt.plot(ms_data[\"application_rate\"],ms_data[\"acceptances\"],\"x\")\n",
    "plt.xlabel(\"Application Rate\")\n",
    "plt.ylabel(\"Acceptances\")\n",
    "corr1=np.corrcoef(ms_data[\"application_rate\"],ms_data[\"acceptances\"])\n",
    "corr1[0,1]"
   ]
  },
  {
   "cell_type": "code",
   "execution_count": 9,
   "metadata": {},
   "outputs": [
    {
     "data": {
      "text/plain": [
       "0.8017265370719315"
      ]
     },
     "execution_count": 9,
     "metadata": {},
     "output_type": "execute_result"
    },
    {
     "data": {
      "image/png": "[encoded data removed]",
      "text/plain": [
       "<Figure size 432x288 with 1 Axes>"
      ]
     },
     "metadata": {
      "needs_background": "light"
     },
     "output_type": "display_data"
    }
   ],
   "source": [
    "plt.plot(ms_data[\"applications\"],ms_data[\"acceptances\"],\"x\")\n",
    "plt.xlabel(\"Applications (Raw)\")\n",
    "plt.ylabel(\"Acceptances\")\n",
    "corr2=np.corrcoef(ms_data[\"applications\"],ms_data[\"acceptances\"])\n",
    "corr2[0,1]"
   ]
  },
  {
   "cell_type": "markdown",
   "metadata": {},
   "source": [
    "From this, we see that the correlation between application rate and acceptances is lower than the correlation between raw number of applications and acceptances. Therefore, raw number of applications is a better predictor of admission."
   ]
  },
  {
   "cell_type": "markdown",
   "metadata": {},
   "source": [
    "# Question 3"
   ]
  },
  {
   "cell_type": "code",
   "execution_count": 10,
   "metadata": {},
   "outputs": [
    {
     "name": "stdout",
     "output_type": "stream",
     "text": [
      "THE CHRISTA MCAULIFFE SCHOOL\\I.S. 187  has the highest per-student odds of sending someone too HSPHS\n",
      "Per student acceptance rate:  0.23482245131729668\n"
     ]
    }
   ],
   "source": [
    "ms_data[\"per_student_acceptance\"]=ms_data[\"acceptances\"]/ms_data[\"school_size\"]\n",
    "max_psa=0\n",
    "max_index=0\n",
    "for i in range(len(ms_data[\"per_student_acceptance\"])):\n",
    "    if ms_data[\"per_student_acceptance\"][i]>max_psa:\n",
    "        max_psa=ms_data[\"per_student_acceptance\"][i]\n",
    "        max_index=i\n",
    "        \n",
    "print(ms_data[\"school_name\"][max_index],\" has the highest per-student odds of sending someone too HSPHS\")\n",
    "print(\"Per student acceptance rate: \",max_psa)"
   ]
  },
  {
   "cell_type": "markdown",
   "metadata": {},
   "source": [
    "# Question 4"
   ]
  },
  {
   "cell_type": "code",
   "execution_count": 11,
   "metadata": {},
   "outputs": [
    {
     "data": {
      "text/plain": [
       "<matplotlib.axes._subplots.AxesSubplot at 0x11d6c43d0>"
      ]
     },
     "execution_count": 11,
     "metadata": {},
     "output_type": "execute_result"
    },
    {
     "data": {
      "image/png": "[encoded data removed]",
      "text/plain": [
       "<Figure size 432x288 with 2 Axes>"
      ]
     },
     "metadata": {
      "needs_background": "light"
     },
     "output_type": "display_data"
    }
   ],
   "source": [
    "perception_of_school=pd.DataFrame(data=ms_data,columns=[\"rigorous_instruction\",\"collaborative_teachers\",\n",
    "    \"supportive_environment\",\"effective_school_leadership\",\"strong_family_community_ties\",\"trust\",\"student_achievement\",\"reading_scores_exceed\",\"math_scores_exceed\"])\n",
    "sns.heatmap(perception_of_school.corr(),cmap=\"Greens\",annot=True)\n"
   ]
  },
  {
   "cell_type": "markdown",
   "metadata": {},
   "source": [
    "There does not seem to be a relationship between how students perceive their school and objective measures of achievement. This is because there is not a single correlation between the 6 variables of subjective perception and the 3 variables of objective achievement that is above .5."
   ]
  },
  {
   "cell_type": "code",
   "execution_count": 14,
   "metadata": {},
   "outputs": [
    {
     "data": {
      "text/plain": [
       "[<matplotlib.lines.Line2D at 0x11e08be80>]"
      ]
     },
     "execution_count": 14,
     "metadata": {},
     "output_type": "execute_result"
    },
    {
     "data": {
      "image/png": "[encoded data removed]",
      "text/plain": [
       "<Figure size 432x288 with 1 Axes>"
      ]
     },
     "metadata": {
      "needs_background": "light"
     },
     "output_type": "display_data"
    }
   ],
   "source": [
    "from scipy import stats \n",
    "from sklearn.decomposition import PCA\n",
    "\n",
    "obj_df = pd.DataFrame(ms_data, columns = [\"student_achievement\",\"math_scores_exceed\",\"reading_scores_exceed\"])\n",
    "climate_df = pd.DataFrame(ms_data, columns=[\"trust\",\"strong_family_community_ties\",\"rigorous_instruction\",\"effective_school_leadership\",\"supportive_environment\",\"collaborative_teachers\"])\n",
    "\n",
    "zscored_data = stats.zscore(obj_df)\n",
    "pca = PCA()\n",
    "pca.fit(obj_df)\n",
    "eig_vals = pca.explained_variance_\n",
    "rotated_data_obj = pca.fit_transform(obj_df)\n",
    "\n",
    "num_cols=0\n",
    "for i in obj_df.columns:\n",
    "    num_cols+=1\n",
    "plt.bar(np.linspace(1, num_cols, num_cols), eig_vals)\n",
    "plt.xlabel(\"Principal Component\")\n",
    "plt.ylabel(\"Eigenvalue\")\n",
    "\n",
    "plt.plot([0,num_cols],[1,1],color=\"red\", linewidth = 1)"
   ]
  },
  {
   "cell_type": "code",
   "execution_count": 15,
   "metadata": {},
   "outputs": [
    {
     "data": {
      "text/plain": [
       "[<matplotlib.lines.Line2D at 0x11e6733d0>]"
      ]
     },
     "execution_count": 15,
     "metadata": {},
     "output_type": "execute_result"
    },
    {
     "data": {
      "image/png": "[encoded data removed]",
      "text/plain": [
       "<Figure size 432x288 with 1 Axes>"
      ]
     },
     "metadata": {
      "needs_background": "light"
     },
     "output_type": "display_data"
    }
   ],
   "source": [
    "zscored_data = stats.zscore(climate_df)\n",
    "pca = PCA()\n",
    "pca.fit(climate_df)\n",
    "eig_vals = pca.explained_variance_\n",
    "rotated_data_climate = pca.fit_transform(climate_df)\n",
    "\n",
    "num_cols=0\n",
    "for i in climate_df.columns:\n",
    "    num_cols+=1\n",
    "plt.bar(np.linspace(1, num_cols, num_cols), eig_vals)\n",
    "plt.xlabel(\"Principal Component\")\n",
    "plt.ylabel(\"Eigenvalue\")\n",
    "\n",
    "plt.plot([0,num_cols],[1,1],color=\"red\", linewidth = 1)"
   ]
  },
  {
   "cell_type": "code",
   "execution_count": 16,
   "metadata": {},
   "outputs": [
    {
     "data": {
      "text/plain": [
       "0.36429470488730725"
      ]
     },
     "execution_count": 16,
     "metadata": {},
     "output_type": "execute_result"
    },
    {
     "data": {
      "image/png": "[encoded data removed]",
      "text/plain": [
       "<Figure size 432x288 with 1 Axes>"
      ]
     },
     "metadata": {
      "needs_background": "light"
     },
     "output_type": "display_data"
    }
   ],
   "source": [
    "component1 = rotated_data_obj[:,0]\n",
    "component2 = rotated_data_climate[:,0]\n",
    "plt.plot(component1, component2, \"x\")\n",
    "np.corrcoef(component1, component2)[0,1]"
   ]
  },
  {
   "cell_type": "markdown",
   "metadata": {},
   "source": [
    "I ran a PCA for both types of variables. The first being \"how students perceive their schools\" which are conveyed in the columns in \"climate_df\" and the second one being \"objective measures of achievement\" which are conveyed in the \"obj_df\" dataframe. Using pca, I found one factor for each that seemed to explain most of the data, and correlated these two factors. These two factors do not seem to be related, with a r value of 0.36."
   ]
  },
  {
   "cell_type": "markdown",
   "metadata": {},
   "source": [
    "# Question 5\n",
    "\n",
    "**Null Hypothesis:** There is no significant difference between the student achievement scores of students that come from large schools vs. small schools. \n",
    "\n",
    "**Alternative Hypothesis** The difference in student achievement scores between large and small schools is significant and is not due to chance. "
   ]
  },
  {
   "cell_type": "code",
   "execution_count": 17,
   "metadata": {},
   "outputs": [
    {
     "data": {
      "text/plain": [
       "(array([ 76., 167., 163.,  75.,  49.,  32.,  17.,   8.,   6.,   1.]),\n",
       " array([  33. ,  253.5,  474. ,  694.5,  915. , 1135.5, 1356. , 1576.5,\n",
       "        1797. , 2017.5, 2238. ]),\n",
       " <a list of 10 Patch objects>)"
      ]
     },
     "execution_count": 17,
     "metadata": {},
     "output_type": "execute_result"
    },
    {
     "data": {
      "image/png": "[encoded data removed]",
      "text/plain": [
       "<Figure size 432x288 with 1 Axes>"
      ]
     },
     "metadata": {
      "needs_background": "light"
     },
     "output_type": "display_data"
    }
   ],
   "source": [
    "plt.hist(ms_data[\"school_size\"])"
   ]
  },
  {
   "cell_type": "code",
   "execution_count": 18,
   "metadata": {},
   "outputs": [
    {
     "data": {
      "text/plain": [
       "1    327\n",
       "0    267\n",
       "Name: large_or_small, dtype: int64"
      ]
     },
     "execution_count": 18,
     "metadata": {},
     "output_type": "execute_result"
    }
   ],
   "source": [
    "ms_data[\"large_or_small\"]=ms_data[\"school_size\"].map(lambda s: 1 if s>500 else 0)\n",
    "ms_data[\"large_or_small\"].value_counts()"
   ]
  },
  {
   "cell_type": "code",
   "execution_count": 19,
   "metadata": {},
   "outputs": [
    {
     "data": {
      "text/plain": [
       "large_or_small\n",
       "0    3.333691\n",
       "1    3.458393\n",
       "Name: student_achievement, dtype: float64"
      ]
     },
     "execution_count": 19,
     "metadata": {},
     "output_type": "execute_result"
    }
   ],
   "source": [
    "ms_data.groupby(\"large_or_small\")[\"student_achievement\"].mean()"
   ]
  },
  {
   "cell_type": "code",
   "execution_count": 55,
   "metadata": {},
   "outputs": [],
   "source": [
    "small_schools=[]\n",
    "large_schools=[]\n",
    "\n",
    "for i in range(len(ms_data[\"large_or_small\"])):\n",
    "    if ms_data[\"large_or_small\"][i]==0:\n",
    "        small_schools+=[ms_data[\"student_achievement\"][i]]\n",
    "    else:\n",
    "        large_schools+=[ms_data[\"student_achievement\"][i]]"
   ]
  },
  {
   "cell_type": "code",
   "execution_count": 68,
   "metadata": {},
   "outputs": [
    {
     "name": "stdout",
     "output_type": "stream",
     "text": [
      "[3.4023400365630727, 3.97, 4.42, 4.26, 3.41, 3.34, 2.8, 3.08, 2.51, 4.25, 2.9, 3.94, 4.99, 3.72, 3.7, 2.26, 1.7, 3.86, 3.94, 2.81, 2.4, 4.29, 3.4023400365630727, 3.77, 2.51, 3.24, 1.75, 2.72, 3.92, 3.74, 4.04, 3.16, 1.65, 3.97, 2.44, 1.5, 3.02, 3.89, 3.48, 3.41]\n",
      "[3.18, 3.89, 3.1, 3.64, 3.55, 3.48, 3.08, 3.94, 3.48, 3.26, 3.48, 4.03, 3.19, 3.94, 2.58, 4.43, 3.62, 4.2, 3.19, 3.27, 3.12, 4.64, 3.55, 3.4023400365630727, 2.59, 3.21, 3.71, 4.5, 4.27, 4.44, 4.47, 4.38, 3.92, 4.61, 3.4023400365630727, 3.48, 3.4, 1.82, 3.64, 4.0]\n",
      "\n",
      "Means:\n",
      "3.2891170018281537\n",
      "3.6271170018281524\n"
     ]
    }
   ],
   "source": [
    "import random\n",
    "sample1=[]\n",
    "sample2=[]\n",
    "for i in range(40):\n",
    "    s1 = random.randint(0,len(small_schools)-1)\n",
    "    sample1+=[small_schools[s1]]\n",
    "    s2 = random.randint(0,len(large_schools)-1)\n",
    "    sample2+=[large_schools[s2]]\n",
    "print(sample1)\n",
    "print(sample2)\n",
    "print()\n",
    "print(\"Means:\")\n",
    "print(sum(sample1) / len(sample1))\n",
    "print(sum(sample2) / len(sample2))"
   ]
  },
  {
   "cell_type": "code",
   "execution_count": 69,
   "metadata": {},
   "outputs": [
    {
     "name": "stdout",
     "output_type": "stream",
     "text": [
      "T value:  -2.0780641489008675\n",
      "Degrees of freedom:  78\n"
     ]
    }
   ],
   "source": [
    "mean_sample1 = sum(sample1) / len(sample1)\n",
    "mean_sample2 = sum(sample2) / len(sample2)\n",
    "sample_size = 40\n",
    "d_f = 39\n",
    "\n",
    "from scipy import stats\n",
    "\n",
    "desc1 = stats.describe(sample1)\n",
    "variance1 = desc1[3]\n",
    "desc2 = stats.describe(sample2)\n",
    "variance2 = desc2[3]\n",
    "\n",
    "var_p = ((d_f / (2*d_f)) * variance1) + ((d_f/(2*d_f)) * variance2)\n",
    "sem = np.sqrt((var_p / sample_size) + (var_p / sample_size))\n",
    "\n",
    "t_score = (mean_sample1 - mean_sample2) / sem\n",
    "print(\"T value: \" , t_score)\n",
    "print(\"Degrees of freedom: \", 78)"
   ]
  },
  {
   "cell_type": "markdown",
   "metadata": {},
   "source": [
    "I chose to test whether or not large school sizes (>500) or small school size (<500) had a significant effect on student achievement scores. I created two lists of all the schools above 500 students, and below 500 students. I selected a random sample of 40 schools' student achievement scores from each list, and did an independent samples t test. The t value was -2.078. The degrees of freedom for this experiment is n1 + n2 - 2, which equals 78. The critical t value for this level of degrees of freedom is 1.990. I calculated a p-value of 0.02. This means that I reject the null hypothesis and conclude that there is a significant difference between the sample means of student achievement scores between large and small schools. "
   ]
  },
  {
   "cell_type": "markdown",
   "metadata": {},
   "source": [
    "# Question 6"
   ]
  },
  {
   "cell_type": "code",
   "execution_count": 54,
   "metadata": {},
   "outputs": [
    {
     "data": {
      "image/png": "[encoded data removed]",
      "text/plain": [
       "<Figure size 432x288 with 2 Axes>"
      ]
     },
     "metadata": {
      "needs_background": "light"
     },
     "output_type": "display_data"
    }
   ],
   "source": [
    "small_df = pd.DataFrame(data=ms_data, columns=[\"per_pupil_spending\",\"avg_class_size\",\"student_achievement\",\"reading_scores_exceed\",\"math_scores_exceed\",\"acceptances\"])\n",
    "df_heatmap = sns.heatmap(small_df.corr(), annot=True, cmap=\"Blues\")\n"
   ]
  },
  {
   "cell_type": "markdown",
   "metadata": {},
   "source": [
    "There does not seem to be a very strong correlation between per_pupil_spending or avg_class_size and any of the objective measures of achievement variables. By looking at the top two rows of the heatmap, one can see that there aren't any correlations above 0.5. "
   ]
  },
  {
   "cell_type": "markdown",
   "metadata": {},
   "source": [
    "Now, in order to reduce the dimensions of the objective achievement variables, I used the rotated data from the objective achievement dataframe in question 4, and correlated it with both average class size and per pupil spending. I again found there to be no real significant correlation between the variables. "
   ]
  },
  {
   "cell_type": "code",
   "execution_count": 71,
   "metadata": {},
   "outputs": [],
   "source": [
    "objective_achievement = rotated_data_obj[:,0]"
   ]
  },
  {
   "cell_type": "code",
   "execution_count": 72,
   "metadata": {},
   "outputs": [
    {
     "data": {
      "text/plain": [
       "-0.21468802451871777"
      ]
     },
     "execution_count": 72,
     "metadata": {},
     "output_type": "execute_result"
    },
    {
     "data": {
      "image/png": "[encoded data removed]",
      "text/plain": [
       "<Figure size 432x288 with 1 Axes>"
      ]
     },
     "metadata": {
      "needs_background": "light"
     },
     "output_type": "display_data"
    }
   ],
   "source": [
    "plt.plot(ms_data[\"avg_class_size\"],objective_achievement,\"x\")\n",
    "np.corrcoef(ms_data[\"avg_class_size\"],objective_achievement)[0,1]\n"
   ]
  },
  {
   "cell_type": "code",
   "execution_count": 73,
   "metadata": {},
   "outputs": [
    {
     "data": {
      "text/plain": [
       "0.17569330479252826"
      ]
     },
     "execution_count": 73,
     "metadata": {},
     "output_type": "execute_result"
    },
    {
     "data": {
      "image/png": "[encoded data removed]",
      "text/plain": [
       "<Figure size 432x288 with 1 Axes>"
      ]
     },
     "metadata": {
      "needs_background": "light"
     },
     "output_type": "display_data"
    }
   ],
   "source": [
    "plt.plot(ms_data[\"per_pupil_spending\"],objective_achievement,\"x\")\n",
    "np.corrcoef(ms_data[\"per_pupil_spending\"],objective_achievement)[0,1]"
   ]
  },
  {
   "cell_type": "markdown",
   "metadata": {},
   "source": [
    "# Question 7"
   ]
  },
  {
   "cell_type": "code",
   "execution_count": 74,
   "metadata": {},
   "outputs": [
    {
     "name": "stdout",
     "output_type": "stream",
     "text": [
      "4016\n",
      "4461\n",
      "\n",
      "123\n",
      "594\n",
      "Proportion: 0.20707070707070707\n"
     ]
    }
   ],
   "source": [
    "accept = []\n",
    "for i in ms_data[\"acceptances\"]:\n",
    "    accept += [i]\n",
    "accept.sort(reverse = True)\n",
    "total_acceptances = sum(accept)\n",
    "\n",
    "cutoff=total_acceptances* .9\n",
    "\n",
    "num_acceptances = 0\n",
    "schools = 0\n",
    "for i in accept:\n",
    "    num_acceptances += i\n",
    "    schools += 1\n",
    "    if num_acceptances > cutoff:\n",
    "        print(num_acceptances)\n",
    "        break\n",
    "print(total_acceptances)\n",
    "print()\n",
    "print(schools)\n",
    "print(ms_data.shape[0])\n",
    "#593, 27\n",
    "\n",
    "proportion = schools / ms_data.shape[0]\n",
    "print(\"Proportion:\", proportion)"
   ]
  },
  {
   "cell_type": "markdown",
   "metadata": {},
   "source": [
    "20.74% (.2074) of all schools included in the dataset account for 90% of student acceptances into HSPHS"
   ]
  },
  {
   "cell_type": "code",
   "execution_count": 75,
   "metadata": {},
   "outputs": [],
   "source": [
    "groupby_data = ms_data.groupby(\"school_name\")[\"acceptances\"].mean()\n",
    "list_of_acceptances=[]\n",
    "list_of_schools=[]\n",
    "list_of_IDs=[]\n",
    "for i in range(len(groupby_data)):\n",
    "    list_of_acceptances+=[groupby_data[i]]\n",
    "    list_of_schools+=[groupby_data.index[i]]\n",
    "    list_of_IDs+=[str(i)]\n",
    "dict_school_acceptances={} #key -- school, item -- acceptances\n",
    "dict_school_IDs={}         #key -- school, item -- ID\n",
    "for i in range(len(list_of_acceptances)):\n",
    "    dict_school_acceptances[list_of_schools[i]]=list_of_acceptances[i]\n",
    "    dict_school_IDs[list_of_schools[i]]=list_of_IDs[i]\n",
    "sorted_dict = dict(sorted(dict_school_acceptances.items(), key=lambda item: item[1]))\n",
    "#add the names to a dictionary with the IDs and the acceptances to put in the bar graph\n",
    "list_of_names_order = []\n",
    "for i in sorted_dict:\n",
    "    list_of_names_order+=[i]\n",
    "dict_IDs_acceptances={}\n",
    "for i in list_of_names_order[len(list_of_names_order)-1: 0: -1]:\n",
    "    dict_IDs_acceptances[dict_school_IDs[i]] = dict_school_acceptances[i]"
   ]
  },
  {
   "cell_type": "code",
   "execution_count": 76,
   "metadata": {},
   "outputs": [
    {
     "data": {
      "text/plain": [
       "<matplotlib.lines.Line2D at 0x11f737f40>"
      ]
     },
     "execution_count": 76,
     "metadata": {},
     "output_type": "execute_result"
    },
    {
     "data": {
      "image/png": "[encoded data removed]",
      "text/plain": [
       "<Figure size 2160x1440 with 1 Axes>"
      ]
     },
     "metadata": {
      "needs_background": "light"
     },
     "output_type": "display_data"
    }
   ],
   "source": [
    "df = pd.DataFrame(list(dict_IDs_acceptances.items()),columns = ['School_ID','Acceptances']) \n",
    "plt.figure(figsize=(30,20))\n",
    "plt.bar(df[\"School_ID\"],df[\"Acceptances\"])\n",
    "ax = plt.gca()\n",
    "ax.axes.xaxis.set_visible(False)\n",
    "plt.xlabel(\"Schools\")\n",
    "plt.ylabel(\"Number of Acceptances\")\n",
    "plt.axvline(x=123, color=\"red\")\n",
    "#the vertical line is the 90% cutoff"
   ]
  },
  {
   "cell_type": "markdown",
   "metadata": {},
   "source": [
    "In this visualization, the red vertical line represents the 90% cutoff. "
   ]
  },
  {
   "cell_type": "markdown",
   "metadata": {},
   "source": [
    "\n",
    "# Question 8"
   ]
  },
  {
   "cell_type": "code",
   "execution_count": 78,
   "metadata": {
    "scrolled": true
   },
   "outputs": [
    {
     "name": "stdout",
     "output_type": "stream",
     "text": [
      "[7.63576896e+00 3.72060885e+00 2.43870695e+00 1.89732001e+00\n",
      " 1.47424663e+00 1.05000975e+00 8.27198897e-01 8.15082770e-01\n",
      " 6.28714044e-01 6.04281166e-01 5.90506184e-01 5.10193595e-01\n",
      " 4.78047225e-01 4.20598188e-01 3.94294551e-01 3.39133743e-01\n",
      " 3.00251311e-01 2.63812335e-01 2.24005830e-01 1.77308517e-01\n",
      " 1.22269659e-01 9.11456173e-02 2.45537853e-02 1.31336606e-02\n",
      " 9.66287025e-04]\n"
     ]
    },
    {
     "data": {
      "text/plain": [
       "[<matplotlib.lines.Line2D at 0x121964c40>]"
      ]
     },
     "execution_count": 78,
     "metadata": {},
     "output_type": "execute_result"
    },
    {
     "data": {
      "image/png": "[encoded data removed]",
      "text/plain": [
       "<Figure size 432x288 with 1 Axes>"
      ]
     },
     "metadata": {
      "needs_background": "light"
     },
     "output_type": "display_data"
    }
   ],
   "source": [
    "keys = []\n",
    "for i in ms_data.columns:\n",
    "    if i != \"school_name\" and i != \"dbn\":\n",
    "        keys += [i]\n",
    "\n",
    "zscore_msdata = pd.DataFrame(data = ms_data, columns = keys)\n",
    "#create dataframe with only quantitative factors \n",
    "\n",
    "zscored_data = stats.zscore(zscore_msdata)\n",
    "pca = PCA()\n",
    "pca.fit(zscored_data)\n",
    "eig_vals = pca.explained_variance_\n",
    "print(eig_vals)\n",
    "\n",
    "loadings = pca.components_\n",
    "rotated_data = pca.fit_transform(zscore_msdata)\n",
    "\n",
    "num_cols=0\n",
    "for i in zscore_msdata.columns:\n",
    "    num_cols+=1\n",
    "plt.bar(np.linspace(1, num_cols, num_cols), eig_vals)\n",
    "plt.xlabel(\"Principal Component\")\n",
    "plt.ylabel(\"Eigenvalue\")\n",
    "\n",
    "plt.plot([0,num_cols],[1,1],color=\"red\", linewidth = 1)"
   ]
  },
  {
   "cell_type": "code",
   "execution_count": 79,
   "metadata": {},
   "outputs": [
    {
     "name": "stdout",
     "output_type": "stream",
     "text": [
      "[7.63576896e+00 3.72060885e+00 2.43870695e+00 1.89732001e+00\n",
      " 1.47424663e+00 1.05000975e+00 8.27198897e-01 8.15082770e-01\n",
      " 6.28714044e-01 6.04281166e-01 5.90506184e-01 5.10193595e-01\n",
      " 4.78047225e-01 4.20598188e-01 3.94294551e-01 3.39133743e-01\n",
      " 3.00251311e-01 2.63812335e-01 2.24005830e-01 1.77308517e-01\n",
      " 1.22269659e-01 9.11456173e-02 2.45537853e-02 1.31336606e-02\n",
      " 9.66287025e-04]\n"
     ]
    }
   ],
   "source": [
    "print(eig_vals)"
   ]
  },
  {
   "cell_type": "code",
   "execution_count": 80,
   "metadata": {},
   "outputs": [
    {
     "data": {
      "text/plain": [
       "(25, 25)"
      ]
     },
     "execution_count": 80,
     "metadata": {},
     "output_type": "execute_result"
    }
   ],
   "source": [
    "loadings = pca.components_\n",
    "loadings.shape"
   ]
  },
  {
   "cell_type": "code",
   "execution_count": 81,
   "metadata": {},
   "outputs": [],
   "source": [
    "col_names = []\n",
    "for i in range(25):\n",
    "    name = \"PC\" + str(i+1)\n",
    "    col_names += [name]"
   ]
  },
  {
   "cell_type": "code",
   "execution_count": 102,
   "metadata": {},
   "outputs": [
    {
     "data": {
      "text/html": [
       "<div>\n",
       "<style scoped>\n",
       "    .dataframe tbody tr th:only-of-type {\n",
       "        vertical-align: middle;\n",
       "    }\n",
       "\n",
       "    .dataframe tbody tr th {\n",
       "        vertical-align: top;\n",
       "    }\n",
       "\n",
       "    .dataframe thead th {\n",
       "        text-align: right;\n",
       "    }\n",
       "</style>\n",
       "<table border=\"1\" class=\"dataframe\">\n",
       "  <thead>\n",
       "    <tr style=\"text-align: right;\">\n",
       "      <th></th>\n",
       "      <th>PC1</th>\n",
       "      <th>PC2</th>\n",
       "      <th>PC3</th>\n",
       "      <th>PC4</th>\n",
       "      <th>PC5</th>\n",
       "      <th>PC6</th>\n",
       "      <th>PC7</th>\n",
       "      <th>PC8</th>\n",
       "      <th>PC9</th>\n",
       "      <th>PC10</th>\n",
       "      <th>PC11</th>\n",
       "      <th>PC12</th>\n",
       "      <th>PC13</th>\n",
       "      <th>PC14</th>\n",
       "      <th>PC15</th>\n",
       "      <th>PC16</th>\n",
       "      <th>PC17</th>\n",
       "      <th>PC18</th>\n",
       "      <th>PC19</th>\n",
       "      <th>PC20</th>\n",
       "      <th>PC21</th>\n",
       "      <th>PC22</th>\n",
       "      <th>PC23</th>\n",
       "      <th>PC24</th>\n",
       "      <th>PC25</th>\n",
       "    </tr>\n",
       "  </thead>\n",
       "  <tbody>\n",
       "    <tr>\n",
       "      <th>0</th>\n",
       "      <td>-0.006607</td>\n",
       "      <td>-0.001954</td>\n",
       "      <td>0.998521</td>\n",
       "      <td>-0.000567</td>\n",
       "      <td>-0.001445</td>\n",
       "      <td>0.001155</td>\n",
       "      <td>0.001547</td>\n",
       "      <td>-0.000077</td>\n",
       "      <td>-0.001176</td>\n",
       "      <td>-0.000038</td>\n",
       "      <td>-0.000027</td>\n",
       "      <td>-0.000034</td>\n",
       "      <td>-9.873678e-07</td>\n",
       "      <td>0.000006</td>\n",
       "      <td>0.000004</td>\n",
       "      <td>0.001195</td>\n",
       "      <td>0.001773</td>\n",
       "      <td>0.000738</td>\n",
       "      <td>-0.053813</td>\n",
       "      <td>-0.000028</td>\n",
       "      <td>-0.000025</td>\n",
       "      <td>-0.000028</td>\n",
       "      <td>-0.000004</td>\n",
       "      <td>-0.000002</td>\n",
       "      <td>-0.000064</td>\n",
       "    </tr>\n",
       "    <tr>\n",
       "      <th>1</th>\n",
       "      <td>0.099003</td>\n",
       "      <td>0.020142</td>\n",
       "      <td>0.054285</td>\n",
       "      <td>0.002929</td>\n",
       "      <td>0.013707</td>\n",
       "      <td>-0.018408</td>\n",
       "      <td>-0.004022</td>\n",
       "      <td>-0.000446</td>\n",
       "      <td>0.009255</td>\n",
       "      <td>0.000095</td>\n",
       "      <td>0.000072</td>\n",
       "      <td>-0.000121</td>\n",
       "      <td>-4.948606e-05</td>\n",
       "      <td>-0.000425</td>\n",
       "      <td>-0.000184</td>\n",
       "      <td>-0.004675</td>\n",
       "      <td>-0.004104</td>\n",
       "      <td>0.001550</td>\n",
       "      <td>0.993059</td>\n",
       "      <td>0.000058</td>\n",
       "      <td>0.000098</td>\n",
       "      <td>0.000140</td>\n",
       "      <td>0.000014</td>\n",
       "      <td>0.000007</td>\n",
       "      <td>0.000878</td>\n",
       "    </tr>\n",
       "    <tr>\n",
       "      <th>2</th>\n",
       "      <td>0.895975</td>\n",
       "      <td>0.319843</td>\n",
       "      <td>0.001939</td>\n",
       "      <td>0.013988</td>\n",
       "      <td>0.137889</td>\n",
       "      <td>-0.159274</td>\n",
       "      <td>-0.104551</td>\n",
       "      <td>0.006791</td>\n",
       "      <td>0.117242</td>\n",
       "      <td>0.002220</td>\n",
       "      <td>0.001513</td>\n",
       "      <td>0.001522</td>\n",
       "      <td>5.327755e-04</td>\n",
       "      <td>-0.000261</td>\n",
       "      <td>0.000256</td>\n",
       "      <td>-0.006386</td>\n",
       "      <td>-0.121518</td>\n",
       "      <td>-0.014776</td>\n",
       "      <td>-0.102836</td>\n",
       "      <td>0.002862</td>\n",
       "      <td>0.001009</td>\n",
       "      <td>0.001063</td>\n",
       "      <td>0.000959</td>\n",
       "      <td>0.000335</td>\n",
       "      <td>-0.001696</td>\n",
       "    </tr>\n",
       "    <tr>\n",
       "      <th>3</th>\n",
       "      <td>-0.033580</td>\n",
       "      <td>-0.017432</td>\n",
       "      <td>-0.001117</td>\n",
       "      <td>0.011953</td>\n",
       "      <td>0.028236</td>\n",
       "      <td>-0.707820</td>\n",
       "      <td>0.670069</td>\n",
       "      <td>-0.017249</td>\n",
       "      <td>0.026311</td>\n",
       "      <td>0.000401</td>\n",
       "      <td>0.001445</td>\n",
       "      <td>0.000673</td>\n",
       "      <td>4.471688e-05</td>\n",
       "      <td>-0.002296</td>\n",
       "      <td>0.001091</td>\n",
       "      <td>0.015340</td>\n",
       "      <td>0.097558</td>\n",
       "      <td>0.191886</td>\n",
       "      <td>-0.007147</td>\n",
       "      <td>0.001145</td>\n",
       "      <td>-0.000570</td>\n",
       "      <td>-0.000389</td>\n",
       "      <td>-0.000116</td>\n",
       "      <td>-0.000022</td>\n",
       "      <td>-0.000624</td>\n",
       "    </tr>\n",
       "    <tr>\n",
       "      <th>4</th>\n",
       "      <td>-0.292183</td>\n",
       "      <td>0.052498</td>\n",
       "      <td>0.001641</td>\n",
       "      <td>0.035488</td>\n",
       "      <td>0.107240</td>\n",
       "      <td>-0.377253</td>\n",
       "      <td>-0.322491</td>\n",
       "      <td>0.037442</td>\n",
       "      <td>0.557635</td>\n",
       "      <td>0.005132</td>\n",
       "      <td>0.004476</td>\n",
       "      <td>0.003233</td>\n",
       "      <td>1.345153e-03</td>\n",
       "      <td>0.006998</td>\n",
       "      <td>0.001253</td>\n",
       "      <td>-0.026172</td>\n",
       "      <td>-0.572278</td>\n",
       "      <td>-0.109431</td>\n",
       "      <td>0.010593</td>\n",
       "      <td>0.004420</td>\n",
       "      <td>0.003187</td>\n",
       "      <td>0.003565</td>\n",
       "      <td>-0.000094</td>\n",
       "      <td>0.000181</td>\n",
       "      <td>0.002472</td>\n",
       "    </tr>\n",
       "  </tbody>\n",
       "</table>\n",
       "</div>"
      ],
      "text/plain": [
       "        PC1       PC2       PC3       PC4       PC5       PC6       PC7  \\\n",
       "0 -0.006607 -0.001954  0.998521 -0.000567 -0.001445  0.001155  0.001547   \n",
       "1  0.099003  0.020142  0.054285  0.002929  0.013707 -0.018408 -0.004022   \n",
       "2  0.895975  0.319843  0.001939  0.013988  0.137889 -0.159274 -0.104551   \n",
       "3 -0.033580 -0.017432 -0.001117  0.011953  0.028236 -0.707820  0.670069   \n",
       "4 -0.292183  0.052498  0.001641  0.035488  0.107240 -0.377253 -0.322491   \n",
       "\n",
       "        PC8       PC9      PC10      PC11      PC12          PC13      PC14  \\\n",
       "0 -0.000077 -0.001176 -0.000038 -0.000027 -0.000034 -9.873678e-07  0.000006   \n",
       "1 -0.000446  0.009255  0.000095  0.000072 -0.000121 -4.948606e-05 -0.000425   \n",
       "2  0.006791  0.117242  0.002220  0.001513  0.001522  5.327755e-04 -0.000261   \n",
       "3 -0.017249  0.026311  0.000401  0.001445  0.000673  4.471688e-05 -0.002296   \n",
       "4  0.037442  0.557635  0.005132  0.004476  0.003233  1.345153e-03  0.006998   \n",
       "\n",
       "       PC15      PC16      PC17      PC18      PC19      PC20      PC21  \\\n",
       "0  0.000004  0.001195  0.001773  0.000738 -0.053813 -0.000028 -0.000025   \n",
       "1 -0.000184 -0.004675 -0.004104  0.001550  0.993059  0.000058  0.000098   \n",
       "2  0.000256 -0.006386 -0.121518 -0.014776 -0.102836  0.002862  0.001009   \n",
       "3  0.001091  0.015340  0.097558  0.191886 -0.007147  0.001145 -0.000570   \n",
       "4  0.001253 -0.026172 -0.572278 -0.109431  0.010593  0.004420  0.003187   \n",
       "\n",
       "       PC22      PC23      PC24      PC25  \n",
       "0 -0.000028 -0.000004 -0.000002 -0.000064  \n",
       "1  0.000140  0.000014  0.000007  0.000878  \n",
       "2  0.001063  0.000959  0.000335 -0.001696  \n",
       "3 -0.000389 -0.000116 -0.000022 -0.000624  \n",
       "4  0.003565 -0.000094  0.000181  0.002472  "
      ]
     },
     "execution_count": 102,
     "metadata": {},
     "output_type": "execute_result"
    }
   ],
   "source": [
    "loadings_df = pd.DataFrame(loadings, columns=col_names)\n",
    "loadings_df.head()"
   ]
  },
  {
   "cell_type": "markdown",
   "metadata": {},
   "source": [
    "1. Characteristics that are important in sending students to HSPHS"
   ]
  },
  {
   "cell_type": "code",
   "execution_count": 83,
   "metadata": {},
   "outputs": [
    {
     "data": {
      "text/html": [
       "<div>\n",
       "<style scoped>\n",
       "    .dataframe tbody tr th:only-of-type {\n",
       "        vertical-align: middle;\n",
       "    }\n",
       "\n",
       "    .dataframe tbody tr th {\n",
       "        vertical-align: top;\n",
       "    }\n",
       "\n",
       "    .dataframe thead th {\n",
       "        text-align: right;\n",
       "    }\n",
       "</style>\n",
       "<table border=\"1\" class=\"dataframe\">\n",
       "  <thead>\n",
       "    <tr style=\"text-align: right;\">\n",
       "      <th></th>\n",
       "      <th>PC1</th>\n",
       "      <th>PC2</th>\n",
       "      <th>PC3</th>\n",
       "      <th>PC4</th>\n",
       "      <th>PC5</th>\n",
       "      <th>PC6</th>\n",
       "      <th>PC7</th>\n",
       "      <th>PC8</th>\n",
       "      <th>PC9</th>\n",
       "      <th>PC10</th>\n",
       "      <th>PC11</th>\n",
       "      <th>PC12</th>\n",
       "      <th>PC13</th>\n",
       "      <th>PC14</th>\n",
       "      <th>PC15</th>\n",
       "      <th>PC16</th>\n",
       "      <th>PC17</th>\n",
       "      <th>PC18</th>\n",
       "      <th>PC19</th>\n",
       "      <th>PC20</th>\n",
       "      <th>PC21</th>\n",
       "      <th>PC22</th>\n",
       "      <th>PC23</th>\n",
       "      <th>PC24</th>\n",
       "      <th>PC25</th>\n",
       "    </tr>\n",
       "  </thead>\n",
       "  <tbody>\n",
       "    <tr>\n",
       "      <th>1</th>\n",
       "      <td>0.099003</td>\n",
       "      <td>0.020142</td>\n",
       "      <td>0.054285</td>\n",
       "      <td>0.002929</td>\n",
       "      <td>0.013707</td>\n",
       "      <td>-0.018408</td>\n",
       "      <td>-0.004022</td>\n",
       "      <td>-0.000446</td>\n",
       "      <td>0.009255</td>\n",
       "      <td>0.000095</td>\n",
       "      <td>0.000072</td>\n",
       "      <td>-0.000121</td>\n",
       "      <td>-0.000049</td>\n",
       "      <td>-0.000425</td>\n",
       "      <td>-0.000184</td>\n",
       "      <td>-0.004675</td>\n",
       "      <td>-0.004104</td>\n",
       "      <td>0.00155</td>\n",
       "      <td>0.993059</td>\n",
       "      <td>0.000058</td>\n",
       "      <td>0.000098</td>\n",
       "      <td>0.00014</td>\n",
       "      <td>0.000014</td>\n",
       "      <td>0.000007</td>\n",
       "      <td>0.000878</td>\n",
       "    </tr>\n",
       "  </tbody>\n",
       "</table>\n",
       "</div>"
      ],
      "text/plain": [
       "        PC1       PC2       PC3       PC4       PC5       PC6       PC7  \\\n",
       "1  0.099003  0.020142  0.054285  0.002929  0.013707 -0.018408 -0.004022   \n",
       "\n",
       "        PC8       PC9      PC10      PC11      PC12      PC13      PC14  \\\n",
       "1 -0.000446  0.009255  0.000095  0.000072 -0.000121 -0.000049 -0.000425   \n",
       "\n",
       "       PC15      PC16      PC17     PC18      PC19      PC20      PC21  \\\n",
       "1 -0.000184 -0.004675 -0.004104  0.00155  0.993059  0.000058  0.000098   \n",
       "\n",
       "      PC22      PC23      PC24      PC25  \n",
       "1  0.00014  0.000014  0.000007  0.000878  "
      ]
     },
     "execution_count": 83,
     "metadata": {},
     "output_type": "execute_result"
    }
   ],
   "source": [
    "#principal components most responsible for acceptances\n",
    "pd.set_option(\"display.max_columns\", 25)\n",
    "loadings_df.loc[[1]]"
   ]
  },
  {
   "cell_type": "code",
   "execution_count": 84,
   "metadata": {},
   "outputs": [],
   "source": [
    "#see that the components most responsible for acceptances are components 19,1,3\n",
    "#in that order"
   ]
  },
  {
   "cell_type": "code",
   "execution_count": 85,
   "metadata": {},
   "outputs": [
    {
     "data": {
      "image/png": "[encoded data removed]",
      "text/plain": [
       "<Figure size 432x288 with 1 Axes>"
      ]
     },
     "metadata": {
      "needs_background": "light"
     },
     "output_type": "display_data"
    },
    {
     "data": {
      "image/png": "[encoded data removed]",
      "text/plain": [
       "<Figure size 432x288 with 1 Axes>"
      ]
     },
     "metadata": {
      "needs_background": "light"
     },
     "output_type": "display_data"
    },
    {
     "data": {
      "image/png": "[encoded data removed]",
      "text/plain": [
       "<Figure size 432x288 with 1 Axes>"
      ]
     },
     "metadata": {
      "needs_background": "light"
     },
     "output_type": "display_data"
    }
   ],
   "source": [
    "components_list_acceptances = [19,1,3]\n",
    "for j in components_list_acceptances:\n",
    "    num = j\n",
    "    name = \"cmp_\"\n",
    "    comp_num = name + str(num)\n",
    "    comp_num = loadings[num]\n",
    "\n",
    "    dict_num = \"dict_num\" + str(num)\n",
    "    dict_num = {}\n",
    "    for i in range(len(comp_num)):\n",
    "        dict_num[i] = comp_num[i]\n",
    "    indices = np.linspace(0,24,25)\n",
    "    values = list(dict_num.values())\n",
    "    plt.bar(indices, values, color=\"red\",width = .9)\n",
    "\n",
    "    plt.xlabel(\"Factor\")\n",
    "    plt.ylabel(\"Value\")\n",
    "    title_name = \"Principal Component: \" + str(num)\n",
    "    plt.title(title_name)\n",
    "    plt.show()"
   ]
  },
  {
   "cell_type": "code",
   "execution_count": 86,
   "metadata": {},
   "outputs": [
    {
     "name": "stdout",
     "output_type": "stream",
     "text": [
      "0.6512289445142645\n"
     ]
    }
   ],
   "source": [
    "c = np.corrcoef(ms_data[\"school_size\"], ms_data[\"applications\"])\n",
    "print(c[0,1])"
   ]
  },
  {
   "cell_type": "code",
   "execution_count": 87,
   "metadata": {},
   "outputs": [
    {
     "data": {
      "text/plain": [
       "LinearRegression()"
      ]
     },
     "execution_count": 87,
     "metadata": {},
     "output_type": "execute_result"
    }
   ],
   "source": [
    "from sklearn.linear_model import LinearRegression\n",
    "import statsmodels.formula.api as sm\n",
    "\n",
    "model = LinearRegression()\n",
    "model.fit(zscore_msdata.drop(\"acceptances\",axis=1), zscore_msdata.acceptances)"
   ]
  },
  {
   "cell_type": "code",
   "execution_count": 88,
   "metadata": {},
   "outputs": [
    {
     "name": "stdout",
     "output_type": "stream",
     "text": [
      "Intercept                      13.386098\n",
      "rigorous_instruction            1.029999\n",
      "effective_school_leadership    -1.369966\n",
      "trust                           0.484994\n",
      "school_size                    -0.010904\n",
      "black_percent                  -0.147599\n",
      "hispanic_percent               -0.164606\n",
      "applications                    0.288557\n",
      "dtype: float64\n"
     ]
    }
   ],
   "source": [
    "model = sm.ols(\"acceptances ~ rigorous_instruction + effective_school_leadership + trust + school_size + black_percent + hispanic_percent + applications\", zscore_msdata).fit()\n",
    "print(model.params)"
   ]
  },
  {
   "cell_type": "code",
   "execution_count": 89,
   "metadata": {},
   "outputs": [],
   "source": [
    "m = model.params"
   ]
  },
  {
   "cell_type": "code",
   "execution_count": 90,
   "metadata": {},
   "outputs": [
    {
     "data": {
      "text/plain": [
       "0.8307413866541147"
      ]
     },
     "execution_count": 90,
     "metadata": {},
     "output_type": "execute_result"
    },
    {
     "data": {
      "image/png": "[encoded data removed]",
      "text/plain": [
       "<Figure size 432x288 with 1 Axes>"
      ]
     },
     "metadata": {
      "needs_background": "light"
     },
     "output_type": "display_data"
    }
   ],
   "source": [
    "zscore_msdata[\"accept_pred\"] =  m[0] + zscore_msdata[model.params.index[1]]*m[1] + zscore_msdata[model.params.index[2]]*m[2] + zscore_msdata[model.params.index[3]]*m[3] + zscore_msdata[model.params.index[4]]*m[4] + zscore_msdata[model.params.index[5]]*m[5] + zscore_msdata[model.params.index[6]]*m[6] + zscore_msdata[model.params.index[7]]*m[7]\n",
    "plt.plot(zscore_msdata[\"accept_pred\"],zscore_msdata[\"acceptances\"],\"x\")\n",
    "np.corrcoef(zscore_msdata[\"acceptances\"],zscore_msdata[\"accept_pred\"])[0,1]"
   ]
  },
  {
   "cell_type": "code",
   "execution_count": 91,
   "metadata": {},
   "outputs": [
    {
     "name": "stdout",
     "output_type": "stream",
     "text": [
      "11.761289634674801\n"
     ]
    }
   ],
   "source": [
    "#calculate rmse\n",
    "from sklearn import metrics\n",
    "print(np.sqrt(metrics.mean_squared_error(zscore_msdata[\"acceptances\"],zscore_msdata[\"accept_pred\"])))"
   ]
  },
  {
   "cell_type": "markdown",
   "metadata": {},
   "source": [
    "I created a linear regression model with the factors that I found to be the most important pertaining to \"acceptances\" from the PCA analysis. I then calculated a root mean squared error of 11.77. This means that the standard deviation of the variance that is unexplained by the model is 11.77 acceptances on average. "
   ]
  },
  {
   "cell_type": "markdown",
   "metadata": {},
   "source": [
    "2. Achieving high scores in objective measures of achievement"
   ]
  },
  {
   "cell_type": "code",
   "execution_count": 92,
   "metadata": {},
   "outputs": [
    {
     "data": {
      "text/html": [
       "<div>\n",
       "<style scoped>\n",
       "    .dataframe tbody tr th:only-of-type {\n",
       "        vertical-align: middle;\n",
       "    }\n",
       "\n",
       "    .dataframe tbody tr th {\n",
       "        vertical-align: top;\n",
       "    }\n",
       "\n",
       "    .dataframe thead th {\n",
       "        text-align: right;\n",
       "    }\n",
       "</style>\n",
       "<table border=\"1\" class=\"dataframe\">\n",
       "  <thead>\n",
       "    <tr style=\"text-align: right;\">\n",
       "      <th></th>\n",
       "      <th>PC1</th>\n",
       "      <th>PC2</th>\n",
       "      <th>PC3</th>\n",
       "      <th>PC4</th>\n",
       "      <th>PC5</th>\n",
       "      <th>PC6</th>\n",
       "      <th>PC7</th>\n",
       "      <th>PC8</th>\n",
       "      <th>PC9</th>\n",
       "      <th>PC10</th>\n",
       "      <th>PC11</th>\n",
       "      <th>PC12</th>\n",
       "      <th>PC13</th>\n",
       "      <th>PC14</th>\n",
       "      <th>PC15</th>\n",
       "      <th>PC16</th>\n",
       "      <th>PC17</th>\n",
       "      <th>PC18</th>\n",
       "      <th>PC19</th>\n",
       "      <th>PC20</th>\n",
       "      <th>PC21</th>\n",
       "      <th>PC22</th>\n",
       "      <th>PC23</th>\n",
       "      <th>PC24</th>\n",
       "      <th>PC25</th>\n",
       "    </tr>\n",
       "  </thead>\n",
       "  <tbody>\n",
       "    <tr>\n",
       "      <th>19</th>\n",
       "      <td>-0.000191</td>\n",
       "      <td>0.000385</td>\n",
       "      <td>-0.000005</td>\n",
       "      <td>0.002348</td>\n",
       "      <td>0.007442</td>\n",
       "      <td>0.006704</td>\n",
       "      <td>0.007505</td>\n",
       "      <td>0.004004</td>\n",
       "      <td>0.008079</td>\n",
       "      <td>-0.039523</td>\n",
       "      <td>-0.249846</td>\n",
       "      <td>0.086787</td>\n",
       "      <td>0.735848</td>\n",
       "      <td>0.082776</td>\n",
       "      <td>-0.613353</td>\n",
       "      <td>0.002153</td>\n",
       "      <td>0.000949</td>\n",
       "      <td>0.001917</td>\n",
       "      <td>-0.000032</td>\n",
       "      <td>0.024939</td>\n",
       "      <td>0.042852</td>\n",
       "      <td>0.034538</td>\n",
       "      <td>0.002244</td>\n",
       "      <td>-0.000864</td>\n",
       "      <td>0.006878</td>\n",
       "    </tr>\n",
       "  </tbody>\n",
       "</table>\n",
       "</div>"
      ],
      "text/plain": [
       "         PC1       PC2       PC3       PC4       PC5       PC6       PC7  \\\n",
       "19 -0.000191  0.000385 -0.000005  0.002348  0.007442  0.006704  0.007505   \n",
       "\n",
       "         PC8       PC9      PC10      PC11      PC12      PC13      PC14  \\\n",
       "19  0.004004  0.008079 -0.039523 -0.249846  0.086787  0.735848  0.082776   \n",
       "\n",
       "        PC15      PC16      PC17      PC18      PC19      PC20      PC21  \\\n",
       "19 -0.613353  0.002153  0.000949  0.001917 -0.000032  0.024939  0.042852   \n",
       "\n",
       "        PC22      PC23      PC24      PC25  \n",
       "19  0.034538  0.002244 -0.000864  0.006878  "
      ]
     },
     "execution_count": 92,
     "metadata": {},
     "output_type": "execute_result"
    }
   ],
   "source": [
    "#student achievement\n",
    "loadings_df.loc[[19]]"
   ]
  },
  {
   "cell_type": "code",
   "execution_count": 93,
   "metadata": {},
   "outputs": [],
   "source": [
    "#see that the components most responsible for student achievement are components 13,15,11\n",
    "components_list_achievement = [13,15,11]"
   ]
  },
  {
   "cell_type": "code",
   "execution_count": 94,
   "metadata": {},
   "outputs": [
    {
     "data": {
      "image/png": "[encoded data removed]",
      "text/plain": [
       "<Figure size 432x288 with 1 Axes>"
      ]
     },
     "metadata": {
      "needs_background": "light"
     },
     "output_type": "display_data"
    },
    {
     "data": {
      "image/png": "[encoded data removed]",
      "text/plain": [
       "<Figure size 432x288 with 1 Axes>"
      ]
     },
     "metadata": {
      "needs_background": "light"
     },
     "output_type": "display_data"
    },
    {
     "data": {
      "image/png": "[encoded data removed]",
      "text/plain": [
       "<Figure size 432x288 with 1 Axes>"
      ]
     },
     "metadata": {
      "needs_background": "light"
     },
     "output_type": "display_data"
    }
   ],
   "source": [
    "for j in components_list_achievement:\n",
    "    num = j\n",
    "    name = \"cmp_\"\n",
    "    comp_num = name + str(num)\n",
    "    comp_num = loadings[num]\n",
    "    dict_num = \"dict_num\" + str(num)\n",
    "    dict_num = {}\n",
    "    for i in range(len(comp_num)):\n",
    "        dict_num[i] = comp_num[i]\n",
    "    indices = np.linspace(0,24,25)\n",
    "    values = list(dict_num.values())\n",
    "    plt.bar(indices, values, color=\"red\",width = .9)\n",
    "\n",
    "    plt.xlabel(\"Factor\")\n",
    "    plt.ylabel(\"Value\")\n",
    "    title_name = \"Principal Component: \" + str(num)\n",
    "    plt.title(title_name)\n",
    "    plt.show()"
   ]
  },
  {
   "cell_type": "code",
   "execution_count": 95,
   "metadata": {},
   "outputs": [
    {
     "data": {
      "text/plain": [
       "LinearRegression()"
      ]
     },
     "execution_count": 95,
     "metadata": {},
     "output_type": "execute_result"
    }
   ],
   "source": [
    "model2 = LinearRegression()\n",
    "model2.fit(zscore_msdata.drop(\"student_achievement\",axis=1), zscore_msdata.student_achievement)"
   ]
  },
  {
   "cell_type": "code",
   "execution_count": 96,
   "metadata": {},
   "outputs": [
    {
     "name": "stdout",
     "output_type": "stream",
     "text": [
      "Intercept                       4.770246\n",
      "black_percent                  -0.034175\n",
      "hispanic_percent               -0.033596\n",
      "white_percent                  -0.028009\n",
      "multiple_percent               -0.046343\n",
      "asian_percent                  -0.029702\n",
      "rigorous_instruction            0.196374\n",
      "strong_family_community_ties   -0.026193\n",
      "trust                           0.082737\n",
      "collaborative_teachers         -0.169409\n",
      "supportive_environment          0.473477\n",
      "dtype: float64\n"
     ]
    }
   ],
   "source": [
    "model2 = sm.ols(\"student_achievement ~ black_percent + hispanic_percent + white_percent + multiple_percent + asian_percent + rigorous_instruction + strong_family_community_ties + trust + collaborative_teachers + supportive_environment\", zscore_msdata).fit()\n",
    "print(model2.params)"
   ]
  },
  {
   "cell_type": "code",
   "execution_count": 97,
   "metadata": {},
   "outputs": [],
   "source": [
    "m2 = model2.params"
   ]
  },
  {
   "cell_type": "code",
   "execution_count": 98,
   "metadata": {},
   "outputs": [],
   "source": [
    "zscore_msdata[\"stud_achiev_pred\"] = m2[0] + zscore_msdata[m2.index[1]]*m2[1] + zscore_msdata[m2.index[2]]*m2[2] + zscore_msdata[m2.index[3]]*m2[3] + zscore_msdata[m2.index[4]]*m2[4] + zscore_msdata[m2.index[5]]*m2[5] + zscore_msdata[m2.index[6]]*m2[6] + zscore_msdata[m2.index[7]]*m2[7] + zscore_msdata[m2.index[8]]*m2[8] + zscore_msdata[m2.index[9]]*m2[9] + zscore_msdata[m2.index[10]]*m2[10]"
   ]
  },
  {
   "cell_type": "code",
   "execution_count": 99,
   "metadata": {},
   "outputs": [
    {
     "name": "stdout",
     "output_type": "stream",
     "text": [
      "0.5731980154809496\n"
     ]
    }
   ],
   "source": [
    "#calculate rmse\n",
    "from sklearn import metrics\n",
    "print(np.sqrt(metrics.mean_squared_error(zscore_msdata[\"student_achievement\"],zscore_msdata[\"stud_achiev_pred\"])))\n"
   ]
  },
  {
   "cell_type": "code",
   "execution_count": 100,
   "metadata": {},
   "outputs": [
    {
     "data": {
      "text/plain": [
       "[<matplotlib.lines.Line2D at 0x12305e880>]"
      ]
     },
     "execution_count": 100,
     "metadata": {},
     "output_type": "execute_result"
    },
    {
     "data": {
      "image/png": "[encoded data removed]",
      "text/plain": [
       "<Figure size 432x288 with 1 Axes>"
      ]
     },
     "metadata": {
      "needs_background": "light"
     },
     "output_type": "display_data"
    }
   ],
   "source": [
    "plt.plot(zscore_msdata[\"student_achievement\"], zscore_msdata[\"stud_achiev_pred\"],\"x\")"
   ]
  },
  {
   "cell_type": "markdown",
   "metadata": {},
   "source": [
    "Similar to what was done in the first section, I created a multiple regression model using the factors that I found to be the most important in determining student achievement scores from my PCA analysis. The root mean squared error of 0.573 means that the standard deviation of the variance unexplained by the model is 0.573 student achievement points. "
   ]
  },
  {
   "cell_type": "code",
   "execution_count": 101,
   "metadata": {},
   "outputs": [
    {
     "name": "stdout",
     "output_type": "stream",
     "text": [
      "Factor:  0 :  applications\n",
      "Factor:  1 :  acceptances\n",
      "Factor:  2 :  per_pupil_spending\n",
      "Factor:  3 :  avg_class_size\n",
      "Factor:  4 :  asian_percent\n",
      "Factor:  5 :  black_percent\n",
      "Factor:  6 :  hispanic_percent\n",
      "Factor:  7 :  multiple_percent\n",
      "Factor:  8 :  white_percent\n",
      "Factor:  9 :  rigorous_instruction\n",
      "Factor:  10 :  collaborative_teachers\n",
      "Factor:  11 :  supportive_environment\n",
      "Factor:  12 :  effective_school_leadership\n",
      "Factor:  13 :  strong_family_community_ties\n",
      "Factor:  14 :  trust\n",
      "Factor:  15 :  disability_percent\n",
      "Factor:  16 :  poverty_percent\n",
      "Factor:  17 :  ESL_percent\n",
      "Factor:  18 :  school_size\n",
      "Factor:  19 :  student_achievement\n",
      "Factor:  20 :  reading_scores_exceed\n",
      "Factor:  21 :  math_scores_exceed\n",
      "Factor:  22 :  application_rate\n",
      "Factor:  23 :  per_student_acceptance\n",
      "Factor:  24 :  large_or_small\n",
      "Factor:  25 :  accept_pred\n",
      "Factor:  26 :  stud_achiev_pred\n"
     ]
    }
   ],
   "source": [
    "for i in range(len(zscore_msdata.columns)):\n",
    "    print(\"Factor: \",i,\": \",zscore_msdata.columns[i])"
   ]
  },
  {
   "cell_type": "markdown",
   "metadata": {},
   "source": [
    "For question 8 I began by making a heatmap of the categories just to get an idea of which variables were somewhat related to each other. I then created a separate dataframe with only the quantitative variables to run a PCA analysis. I created a screeplot which showed the principal components that carried the most variance. I then extracted the loadings matrix and input that into a separate dataframe to see the relationship between each principal component and each factor in the original zscored dataframe. Question 8 asked which school characteristics were most important in terms of a) sending students to HSPHS, and b) achieving high scores on objective measures of achievement. From the loadings dataframe that I created, I was able to extract the rows that pertained to 'acceptances' (the category associated with a) and 'student_achievement' (the category associated with b). From these rows, I looked at the three highest principal component loading scores and plotted them on 3 bar charts for both the category in (a) and the category in (b). "
   ]
  },
  {
   "cell_type": "markdown",
   "metadata": {},
   "source": [
    "I found that the school characteristics most important in terms of sending students to HSPHS are the categories relating to how students perceive their school. The most important of these factors include rigorous instruction, effective school leadership, and trust. I found that school size and applications were both significant in principal component 1, meaning that they are both important factors when determining number of acceptances. This makes sense because as the number of students in a school increases, the number of acceptances from that school should also increase. I also found that percentage of black and hispanic students at the school are important factors. I then used these factors to create a multiple regression model to predict number of acceptances for a given school. For this model, I calculated a root mean squared error of approximately 11.77. "
   ]
  },
  {
   "cell_type": "markdown",
   "metadata": {},
   "source": [
    "Different factors contribute to student achievement scores. I found that the factors most important in determining student achievement scores include the categories pertaining to diversity, such as black percent, hispanic percent, asian percent, white percent, and ESL percent. This means that overall diversity of a given school has an affect on average student achievement scores. In addition, I found that rigorous instruction, collaborative teachers, strong family community ties, and trust all have an effect on average student achievement scores as well. I created a multiple regression model for student achievement with the important factors that I found using PCA for student achievement. I calculated a root mean squared error of approximately 0.84. "
   ]
  },
  {
   "cell_type": "markdown",
   "metadata": {},
   "source": [
    "# Question 9\n",
    "\n",
    "In question 1, I created a scatter plot between number of applications and acceptances into HSPHS, and calculated the Pearson r coefficient to be about 0.8. This means that as a given school sends out more applications, their number of acceptances increases. In question 4, I looked at the relationship between how students perceive their school and objective measures of achievement. I used PCA to reduce the dimensions of each category from several variables and found that there was no significant correlation between the two reduced variables.\n",
    "\n",
    "I then performed a t-test to test whether there was a significant difference in overall student achievement scores between large schools (size > 500) and small schools (<500). I found that there was a significant difference between the two samples' scores with a p-value of 0.02. From this I learned that larger schools contain students that have better student achievement scores. \n",
    "\n",
    "I used PCA again to see the relationship between material resources and objective measures of achievement. I used the same reduced variable for objective measures of achievement that I used in question 2, and correlated it with both average class size and per pupil spending, and did not find a significant correlation. This means that average class size and per pupil spending do not have much of an effect on student achievement scores. \n",
    "\n",
    "To find other components that have an effect on number of acceptances, I ran a principal component analysis on the data. As stated in question 8, I found that measures of how students perceive their school are most important in determining how many acceptances a school will get. The most important of these factors specifically include rigorous instruction, effective school leadership, and trust. In principal component 1, these three categories had the largest absolute loading values, meaning that they combine to form most of this component's content. \n",
    "\n",
    "In the second principal component, school size was the most important factor by far. School size is another factor that has a great influence on number of acceptances from a given school. This relates to what I found in question 1, because there is a correlation of .65 between number of applications sent and school size and, intuitively, as a school size increases that school will likely send out more applications.\n",
    "\n",
    "Most of the third principal component was domianted by black percent, hispanic percent. ESL percent also had a noteable loading value, meaning that these three factors are important when looking at number of acceptances. This means that overall diversity is also somewhat important when determining how many students from a school will be accepted into HSPHS."
   ]
  },
  {
   "cell_type": "markdown",
   "metadata": {},
   "source": [
    "# Question 10\n",
    "\n",
    "In order to improve schools so that they send more students to HSPHS, I would recommend that they focus on the quality of teachers and staff at their schools. The data above shows that how students perceive their school has a large effect on the number of acceptances from that school. The more positively the students view their school, the more acceptances that school gets. Schools that have good leadership from their teachers, have high levels of trust, and have teachers that spend countless hours making sure the students understand the material will have a higher number of students accepted to HSPHS. Another factor that influences how many acceptances a school will get is school size and number of applications sent out. The more students that attend a school, the greater the number of students from that school will get accpeted into HSPHS. Therefore, schools should also take as many kids as possible and encourage them to put themselves out there and apply as much as they can!\n",
    "\n",
    "If a school wants its students to have higher measures of achievement scores, however, it should focus on slightly different aspects. A school that wants to increase student achievement scores should focus on diversity of their students. Schools that have large numbers of students with high levels of diversity tend to do better on average student achievement scores. "
   ]
  }
 ],
 "metadata": {
  "kernelspec": {
   "display_name": "Python 3",
   "language": "python",
   "name": "python3"
  },
  "language_info": {
   "codemirror_mode": {
    "name": "ipython",
    "version": 3
   },
   "file_extension": ".py",
   "mimetype": "text/x-python",
   "name": "python",
   "nbconvert_exporter": "python",
   "pygments_lexer": "ipython3",
   "version": "3.8.3"
  }
 },
 "nbformat": 4,
 "nbformat_minor": 4
}
